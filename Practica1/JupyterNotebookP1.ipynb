{
 "cells": [
  {
   "cell_type": "markdown",
   "id": "7eea1d0e",
   "metadata": {},
   "source": [
    "# Practica 1"
   ]
  },
  {
   "cell_type": "code",
   "execution_count": 12,
   "id": "e4aaae08",
   "metadata": {},
   "outputs": [],
   "source": [
    "## Intro"
   ]
  },
  {
   "cell_type": "code",
   "execution_count": 13,
   "id": "9fb91521",
   "metadata": {},
   "outputs": [
    {
     "name": "stdout",
     "output_type": "stream",
     "text": [
      "total 4\r\n",
      "-rw-rw-r-- 1 patricia patricia 589 oct 26 14:38 Untitled.ipynb\r\n"
     ]
    }
   ],
   "source": [
    "!cd ~/Documentos/GitHub/FI/Practica1/\n",
    "!ls -l"
   ]
  },
  {
   "cell_type": "code",
   "execution_count": null,
   "id": "d20e6f1f",
   "metadata": {},
   "outputs": [],
   "source": [
    "!head"
   ]
  }
 ],
 "metadata": {
  "kernelspec": {
   "display_name": "Python 3 (ipykernel)",
   "language": "python",
   "name": "python3"
  },
  "language_info": {
   "codemirror_mode": {
    "name": "ipython",
    "version": 3
   },
   "file_extension": ".py",
   "mimetype": "text/x-python",
   "name": "python",
   "nbconvert_exporter": "python",
   "pygments_lexer": "ipython3",
   "version": "3.9.13"
  }
 },
 "nbformat": 4,
 "nbformat_minor": 5
}
