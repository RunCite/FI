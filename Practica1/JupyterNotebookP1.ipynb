{
 "cells": [
  {
   "cell_type": "markdown",
   "id": "9b13f827",
   "metadata": {},
   "source": [
    "# Practica 1"
   ]
  },
  {
   "cell_type": "code",
   "execution_count": 12,
   "id": "e4aaae08",
   "metadata": {},
   "outputs": [],
   "source": [
    "## Intro"
   ]
  },
  {
   "cell_type": "code",
   "execution_count": 13,
   "id": "3bb3e08f",
   "metadata": {},
   "outputs": [
    {
     "name": "stdout",
     "output_type": "stream",
     "text": [
      "total 4\r\n",
      "-rw-rw-r-- 1 patricia patricia 589 oct 26 14:38 Untitled.ipynb\r\n"
     ]
    }
   ],
   "source": [
    "!cd ~/Documentos/GitHub/FI/Practica1/\n",
    "!ls -l"
   ]
  },
  {
   "cell_type": "code",
   "execution_count": 15,
   "id": "4d07d331",
   "metadata": {},
   "outputs": [
    {
     "name": "stdout",
     "output_type": "stream",
     "text": [
      "head: no se puede abrir 'errors.txt' para lectura: No existe el archivo o el directorio\r\n"
     ]
    }
   ],
   "source": [
    "!head errors.txt"
   ]
  },
  {
   "cell_type": "code",
   "execution_count": null,
   "id": "068feaef",
   "metadata": {},
   "outputs": [],
   "source": []
  }
 ],
 "metadata": {
  "kernelspec": {
   "display_name": "Python 3 (ipykernel)",
   "language": "python",
   "name": "python3"
  },
  "language_info": {
   "codemirror_mode": {
    "name": "ipython",
    "version": 3
   },
   "file_extension": ".py",
   "mimetype": "text/x-python",
   "name": "python",
   "nbconvert_exporter": "python",
   "pygments_lexer": "ipython3",
   "version": "3.9.13"
  }
 },
 "nbformat": 4,
 "nbformat_minor": 5
}
