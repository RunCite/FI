{
 "cells": [
  {
   "cell_type": "markdown",
   "id": "759f10ec",
   "metadata": {},
   "source": [
    "# Practica 1"
   ]
  },
  {
   "cell_type": "markdown",
   "id": "e4b92c46",
   "metadata": {},
   "source": [
    "## Introducción"
   ]
  },
  {
   "cell_type": "markdown",
   "id": "8866fd41",
   "metadata": {},
   "source": [
    "En la actualidad, el almacenamiento de múltiples fuentes de información en un lago de datos se compone de diferentes opciones de almacenamiento para cada capa. Esto significa que se requiere realizar una preparación con los datos, a fin de que sean adecuados para su análisis o modelización posterior. En esta práctica realizaremos un tratamiento de datos con *Shell Script*,  donde inicialmente leeremos la información (extraer), luego filtraremos y depuraremos algunos datos (transformar), y finalmente los escribiremos en un nuevo archivo de carga (cargar). Estos procesos generalmente ocurren como pasos ETL (Extract, transform and load) en una canalización de datos entre capas, mediante procesamiento por lotes.\\\\\n",
    "\n",
    "El conjunto de datos *titles.cvs* que trabajaremos, contiene los listados de todas las películas y programas de televisión disponibles en Netflix, junto con detalles como el año de realización, duración del contenido en minutos, géneros de producción, países participantes, etc."
   ]
  },
  {
   "cell_type": "markdown",
   "id": "ef1c142f",
   "metadata": {},
   "source": [
    "## Lectura de datos"
   ]
  },
  {
   "cell_type": "markdown",
   "id": "1bb3d780",
   "metadata": {},
   "source": [
    "Las ejecuciones Bash desde Jupyter se han en local, ya que los resultados no son visibles en GitHub. A continuación asignamos el directorio de trabajo."
   ]
  },
  {
   "cell_type": "code",
   "execution_count": 19,
   "id": "4e11d865",
   "metadata": {},
   "outputs": [
    {
     "name": "stdout",
     "output_type": "stream",
     "text": [
      "total 1956\r\n",
      "-rw-rw-r-- 1 patricia patricia   14597 oct 26 16:33 JupyterNotebookP1.ipynb\r\n",
      "-rwxrw-r-- 1 patricia patricia     145 oct 26 16:23 MoviesP1.awk\r\n",
      "-rw-rw-r-- 1 patricia patricia 1978945 oct 25 15:34 titles.cvs\r\n"
     ]
    }
   ],
   "source": [
    "!cd ~/exercicis-linux/practiques/Practica1\n",
    "!ls -l"
   ]
  },
  {
   "cell_type": "markdown",
   "id": "50358c10",
   "metadata": {},
   "source": [
    "En la lectura inicial de los datos, observamos que tenemos campos delimitados por comas (,) y otros por comillas (\"):"
   ]
  },
  {
   "cell_type": "code",
   "execution_count": 20,
   "id": "c77d5f55",
   "metadata": {},
   "outputs": [
    {
     "name": "stdout",
     "output_type": "stream",
     "text": [
      "id,title,type,description,release_year,age_certification,runtime,genres,production_countries,seasons,imdb_id,imdb_score,imdb_votes,tmdb_popularity,tmdb_score\r\n",
      "ts300399,Five Came Back: The Reference Films,SHOW,\"This collection includes 12 World War II-era propaganda films — many of which are graphic and offensive — discussed in the docuseries \"\"Five Came Back.\"\"\",1945,TV-MA,48,['documentation'],['US'],1.0,,,,0.6,\r\n",
      "tm84618,Taxi Driver,MOVIE,A mentally unstable Vietnam War veteran works as a night-time taxi driver in New York City where the perceived decadence and sleaze feed his urge for violent action  attempting to save a preadolescent prostitute in the process.,1976,R,113,['crime'  'drama'],['US'],,tt0075314,8.3,795222.0,27.612,8.2\r\n",
      "tm127384,Monty Python and the Holy Grail,MOVIE,\"King Arthur  accompanied by his squire  recruits his Knights of the Round Table  including Sir Bedevere the Wise  Sir Lancelot the Brave  Sir Robin the Not-Quite-So-Brave-As-Sir-Lancelot and Sir Galahad the Pure. On the way  Arthur battles the Black Knight who  despite having had all his limbs chopped off  insists he can still fight. They reach Camelot  but Arthur decides not  to enter  as \"\"it is a silly place\"\".\",1975,PG,91,['comedy'  'fantasy'],['GB'],,tt0071853,8.2,530877.0,18.216,7.8\r\n",
      "tm70993,Life of Brian,MOVIE,Brian Cohen is an average young Jewish man  but through a series of ridiculous events  he gains a reputation as the Messiah. When he's not dodging his followers or being scolded by his shrill mother  the hapless Brian has to contend with the pompous Pontius Pilate and acronym-obsessed members of a separatist movement. Rife with Monty Python's signature absurdity  the tale finds Brian's life paralleling Biblical lore  albeit with many more laughs.,1979,R,94,['comedy'],['GB'],,tt0079470,8.0,392419.0,17.505,7.8\r\n",
      "tm190788,The Exorcist,MOVIE,12-year-old Regan MacNeil begins to adapt an explicit new personality as strange events befall the local area of Georgetown. Her mother becomes torn between science and superstition in a desperate bid to save her daughter  and ultimately turns to her last hope: Father Damien Karras  a troubled priest who is struggling with his own faith.,1973,R,133,['horror'],['US'],,tt0070047,8.1,391942.0,95.337,7.7\r\n",
      "ts22164,Monty Python's Flying Circus,SHOW,A British sketch comedy series with the shows being composed of surreality  risqué or innuendo-laden humour  sight gags and observational sketches without punchlines.,1969,TV-14,30,['comedy'  'european'],['GB'],4.0,tt0063929,8.8,72895.0,12.919,8.3\r\n",
      "tm14873,Dirty Harry,MOVIE,When a madman dubbed 'Scorpio' terrorizes San Francisco  hard-nosed cop  Harry Callahan – famous for his take-no-prisoners approach to law enforcement – is tasked with hunting down the psychopath. Harry eventually collars Scorpio in the process of rescuing a kidnap victim  only to see him walk on technicalities. Now  the maverick detective is determined to nail the maniac himself.,1971,R,102,['thriller'  'crime'  'action'],['US'],,tt0066999,7.7,153463.0,14.745,7.5\r\n",
      "tm185072,My Fair Lady,MOVIE,A snobbish phonetics professor agrees to a wager that he can take a flower girl and make her presentable in high society.,1964,G,170,['drama'  'music'  'romance'  'family'],['US'],,tt0058385,7.8,94121.0,15.949,7.6\r\n",
      "tm98978,The Blue Lagoon,MOVIE,Two small children and a ship's cook survive a shipwreck and find safety on an idyllic tropical island. Soon  however  the cook dies and the young boy and girl are left on their own. Days become years and Emmeline and Richard make a home for themselves surrounded by exotic creatures and nature's beauty. But will they ever see civilization again?,1980,R,104,['romance'  'drama'],['US'],,tt0080453,5.8,69053.0,44.038,6.2\r\n"
     ]
    }
   ],
   "source": [
    "!head titles.cvs"
   ]
  },
  {
   "cell_type": "markdown",
   "id": "83c06c7c",
   "metadata": {},
   "source": [
    "Inicialmente, para no tener en cuenta las comas como separadores de campos, crearemos el archivo *MoviesP1.awk* que utilizaremos para analizar el fichero .cvs. En la sentencia BEGIN indicamos que el separador es por comas, y en la salida con NF (número de filas observamos si tenemos más filas que número de columnas (15).\n",
    "\n",
    "\n",
    "BEGIN{\n",
    "        FS=\",\"\n",
    "}\n",
    "\n",
    "{    \n",
    "        if(NF>15) print \"NF = \" NF\n",
    "}\n"
   ]
  },
  {
   "cell_type": "code",
   "execution_count": 28,
   "id": "bf8d4cc2",
   "metadata": {},
   "outputs": [
    {
     "name": "stdout",
     "output_type": "stream",
     "text": [
      "NF = 25\r\n",
      "NF = 25\r\n",
      "NF = 25\r\n",
      "NF = 25\r\n",
      "NF = 25\r\n",
      "NF = 26\r\n",
      "NF = 25\r\n",
      "NF = 25\r\n",
      "NF = 25\r\n",
      "NF = 25\r\n",
      "NF = 25\r\n",
      "NF = 25\r\n",
      "NF = 25\r\n",
      "NF = 25\r\n"
     ]
    }
   ],
   "source": [
    "!cat titles.cvs | awk -f MoviesP1.awk"
   ]
  },
  {
   "cell_type": "markdown",
   "id": "a5d25abf",
   "metadata": {},
   "source": [
    "Este resultado nos indica que las separaciones por comas en algún campo de texto, también se está utilizando (como por ejemplo la descripción), por lo que reemplazamos mediante la función *gsub()* el texto correspondiente, y de ésta forma tenemos cada una de las filas igual que el número de columnas:\n",
    "\n",
    "BEGIN{\n",
    "        FS=\",\"\n",
    "}\n",
    "\n",
    "{\n",
    "        gsub(\",,\", \", ,\")\n",
    "        print \"NF = \" NF\n",
    "}\n"
   ]
  },
  {
   "cell_type": "code",
   "execution_count": 30,
   "id": "6b8eefd1",
   "metadata": {},
   "outputs": [
    {
     "name": "stdout",
     "output_type": "stream",
     "text": [
      "NF = 15\r\n",
      "NF = 15\r\n",
      "NF = 15\r\n",
      "NF = 15\r\n",
      "NF = 15\r\n",
      "NF = 15\r\n",
      "NF = 15\r\n",
      "NF = 15\r\n",
      "NF = 15\r\n",
      "NF = 15\r\n"
     ]
    }
   ],
   "source": [
    "!head titles.cvs | awk -f MoviesP1.awk"
   ]
  },
  {
   "cell_type": "markdown",
   "id": "e4452bbd",
   "metadata": {},
   "source": [
    "## Transformación de los Datos"
   ]
  },
  {
   "cell_type": "markdown",
   "id": "0aff03b8",
   "metadata": {},
   "source": [
    "1) Una vez hemos leído el fichero, un primer paso es limpiar los identificadores que no comiencen con los carácteres *tm* o *ts*, para lo cual nos ayudamos de la función index que nos devuelve el orden en que el caracter aparece por primera vez en una cadena:\n",
    "\n",
    "{\n",
    "        v1=$1\n",
    "        if(index(v1, \"tm\")==1 || index(v1, \"ts\")==1)\n",
    "        print  v1\n",
    "}\n"
   ]
  },
  {
   "cell_type": "code",
   "execution_count": 33,
   "id": "adefcd30",
   "metadata": {},
   "outputs": [
    {
     "name": "stdout",
     "output_type": "stream",
     "text": [
      "ts300399\r\n",
      "tm84618\r\n",
      "tm127384\r\n",
      "tm70993\r\n",
      "tm190788\r\n",
      "ts22164\r\n",
      "tm14873\r\n",
      "tm185072\r\n",
      "tm98978\r\n"
     ]
    }
   ],
   "source": [
    "!head titles.cvs | awk -f MoviesP1.awk"
   ]
  },
  {
   "cell_type": "markdown",
   "id": "2a31069c",
   "metadata": {},
   "source": [
    "2) Ahora eliminaremos los registros en los cuales el contenído del título no comience por un carácter alfanumèrico, para lo cual nos ayudamos de la siguiente expresión regular:\n",
    "\n",
    "{\n",
    "        v2=$2\n",
    "        if(v2 !~/^[^A-Za-z]/)\n",
    "        print v2  }\n"
   ]
  },
  {
   "cell_type": "code",
   "execution_count": 34,
   "id": "f8509507",
   "metadata": {},
   "outputs": [
    {
     "name": "stdout",
     "output_type": "stream",
     "text": [
      "title\r\n",
      "Five Came Back: The Reference Films\r\n",
      "Taxi Driver\r\n",
      "Monty Python and the Holy Grail\r\n",
      "Life of Brian\r\n",
      "The Exorcist\r\n",
      "Monty Python's Flying Circus\r\n",
      "Dirty Harry\r\n",
      "My Fair Lady\r\n",
      "The Blue Lagoon\r\n"
     ]
    }
   ],
   "source": [
    "!head titles.cvs | awk -f MoviesP1.awk"
   ]
  },
  {
   "cell_type": "markdown",
   "id": "1e2ab4a6",
   "metadata": {},
   "source": [
    "3) Ahora separaremos en dos ficheros diferentes, las películas de las series. Los campos que no tienen sentido, se guardan en un fichero a parte:\n",
    "\n",
    "{ \n",
    "        v3=$3\n",
    "        if(NR=1 || v3==\"MOVIE\") print > \"file1.csv\";\n",
    "        if(NR=1 || v3==\"SHOW\") print > \"file2.csv\";\n",
    "}\n"
   ]
  },
  {
   "cell_type": "code",
   "execution_count": 37,
   "id": "7e47dc1a",
   "metadata": {},
   "outputs": [],
   "source": [
    "!head titles.cvs | awk -f MoviesP1.awk"
   ]
  },
  {
   "cell_type": "code",
   "execution_count": 40,
   "id": "c878dd54",
   "metadata": {},
   "outputs": [
    {
     "name": "stdout",
     "output_type": "stream",
     "text": [
      "id,title,type,description,release_year,age_certification,runtime,genres,production_countries,seasons,imdb_id,imdb_score,imdb_votes,tmdb_popularity,tmdb_score\r\n",
      "ts300399,Five Came Back: The Reference Films,SHOW,\"This collection includes 12 World War II-era propaganda films — many of which are graphic and offensive — discussed in the docuseries \"\"Five Came Back.\"\"\",1945,TV-MA,48,['documentation'],['US'],1.0, ,, ,0.6,\r\n",
      "tm84618,Taxi Driver,MOVIE,A mentally unstable Vietnam War veteran works as a night-time taxi driver in New York City where the perceived decadence and sleaze feed his urge for violent action  attempting to save a preadolescent prostitute in the process.,1976,R,113,['crime'  'drama'],['US'], ,tt0075314,8.3,795222.0,27.612,8.2\r\n",
      "tm127384,Monty Python and the Holy Grail,MOVIE,\"King Arthur  accompanied by his squire  recruits his Knights of the Round Table  including Sir Bedevere the Wise  Sir Lancelot the Brave  Sir Robin the Not-Quite-So-Brave-As-Sir-Lancelot and Sir Galahad the Pure. On the way  Arthur battles the Black Knight who  despite having had all his limbs chopped off  insists he can still fight. They reach Camelot  but Arthur decides not  to enter  as \"\"it is a silly place\"\".\",1975,PG,91,['comedy'  'fantasy'],['GB'], ,tt0071853,8.2,530877.0,18.216,7.8\r\n",
      "tm70993,Life of Brian,MOVIE,Brian Cohen is an average young Jewish man  but through a series of ridiculous events  he gains a reputation as the Messiah. When he's not dodging his followers or being scolded by his shrill mother  the hapless Brian has to contend with the pompous Pontius Pilate and acronym-obsessed members of a separatist movement. Rife with Monty Python's signature absurdity  the tale finds Brian's life paralleling Biblical lore  albeit with many more laughs.,1979,R,94,['comedy'],['GB'], ,tt0079470,8.0,392419.0,17.505,7.8\r\n",
      "tm190788,The Exorcist,MOVIE,12-year-old Regan MacNeil begins to adapt an explicit new personality as strange events befall the local area of Georgetown. Her mother becomes torn between science and superstition in a desperate bid to save her daughter  and ultimately turns to her last hope: Father Damien Karras  a troubled priest who is struggling with his own faith.,1973,R,133,['horror'],['US'], ,tt0070047,8.1,391942.0,95.337,7.7\r\n",
      "ts22164,Monty Python's Flying Circus,SHOW,A British sketch comedy series with the shows being composed of surreality  risqué or innuendo-laden humour  sight gags and observational sketches without punchlines.,1969,TV-14,30,['comedy'  'european'],['GB'],4.0,tt0063929,8.8,72895.0,12.919,8.3\r\n",
      "tm14873,Dirty Harry,MOVIE,When a madman dubbed 'Scorpio' terrorizes San Francisco  hard-nosed cop  Harry Callahan – famous for his take-no-prisoners approach to law enforcement – is tasked with hunting down the psychopath. Harry eventually collars Scorpio in the process of rescuing a kidnap victim  only to see him walk on technicalities. Now  the maverick detective is determined to nail the maniac himself.,1971,R,102,['thriller'  'crime'  'action'],['US'], ,tt0066999,7.7,153463.0,14.745,7.5\r\n",
      "tm185072,My Fair Lady,MOVIE,A snobbish phonetics professor agrees to a wager that he can take a flower girl and make her presentable in high society.,1964,G,170,['drama'  'music'  'romance'  'family'],['US'], ,tt0058385,7.8,94121.0,15.949,7.6\r\n",
      "tm98978,The Blue Lagoon,MOVIE,Two small children and a ship's cook survive a shipwreck and find safety on an idyllic tropical island. Soon  however  the cook dies and the young boy and girl are left on their own. Days become years and Emmeline and Richard make a home for themselves surrounded by exotic creatures and nature's beauty. But will they ever see civilization again?,1980,R,104,['romance'  'drama'],['US'], ,tt0080453,5.8,69053.0,44.038,6.2\r\n"
     ]
    }
   ],
   "source": [
    "!head file1.csv"
   ]
  },
  {
   "cell_type": "code",
   "execution_count": 41,
   "id": "3b89771f",
   "metadata": {},
   "outputs": [
    {
     "name": "stdout",
     "output_type": "stream",
     "text": [
      "id,title,type,description,release_year,age_certification,runtime,genres,production_countries,seasons,imdb_id,imdb_score,imdb_votes,tmdb_popularity,tmdb_score\r\n",
      "ts300399,Five Came Back: The Reference Films,SHOW,\"This collection includes 12 World War II-era propaganda films — many of which are graphic and offensive — discussed in the docuseries \"\"Five Came Back.\"\"\",1945,TV-MA,48,['documentation'],['US'],1.0, ,, ,0.6,\r\n",
      "tm84618,Taxi Driver,MOVIE,A mentally unstable Vietnam War veteran works as a night-time taxi driver in New York City where the perceived decadence and sleaze feed his urge for violent action  attempting to save a preadolescent prostitute in the process.,1976,R,113,['crime'  'drama'],['US'], ,tt0075314,8.3,795222.0,27.612,8.2\r\n",
      "tm127384,Monty Python and the Holy Grail,MOVIE,\"King Arthur  accompanied by his squire  recruits his Knights of the Round Table  including Sir Bedevere the Wise  Sir Lancelot the Brave  Sir Robin the Not-Quite-So-Brave-As-Sir-Lancelot and Sir Galahad the Pure. On the way  Arthur battles the Black Knight who  despite having had all his limbs chopped off  insists he can still fight. They reach Camelot  but Arthur decides not  to enter  as \"\"it is a silly place\"\".\",1975,PG,91,['comedy'  'fantasy'],['GB'], ,tt0071853,8.2,530877.0,18.216,7.8\r\n",
      "tm70993,Life of Brian,MOVIE,Brian Cohen is an average young Jewish man  but through a series of ridiculous events  he gains a reputation as the Messiah. When he's not dodging his followers or being scolded by his shrill mother  the hapless Brian has to contend with the pompous Pontius Pilate and acronym-obsessed members of a separatist movement. Rife with Monty Python's signature absurdity  the tale finds Brian's life paralleling Biblical lore  albeit with many more laughs.,1979,R,94,['comedy'],['GB'], ,tt0079470,8.0,392419.0,17.505,7.8\r\n",
      "tm190788,The Exorcist,MOVIE,12-year-old Regan MacNeil begins to adapt an explicit new personality as strange events befall the local area of Georgetown. Her mother becomes torn between science and superstition in a desperate bid to save her daughter  and ultimately turns to her last hope: Father Damien Karras  a troubled priest who is struggling with his own faith.,1973,R,133,['horror'],['US'], ,tt0070047,8.1,391942.0,95.337,7.7\r\n",
      "ts22164,Monty Python's Flying Circus,SHOW,A British sketch comedy series with the shows being composed of surreality  risqué or innuendo-laden humour  sight gags and observational sketches without punchlines.,1969,TV-14,30,['comedy'  'european'],['GB'],4.0,tt0063929,8.8,72895.0,12.919,8.3\r\n",
      "tm14873,Dirty Harry,MOVIE,When a madman dubbed 'Scorpio' terrorizes San Francisco  hard-nosed cop  Harry Callahan – famous for his take-no-prisoners approach to law enforcement – is tasked with hunting down the psychopath. Harry eventually collars Scorpio in the process of rescuing a kidnap victim  only to see him walk on technicalities. Now  the maverick detective is determined to nail the maniac himself.,1971,R,102,['thriller'  'crime'  'action'],['US'], ,tt0066999,7.7,153463.0,14.745,7.5\r\n",
      "tm185072,My Fair Lady,MOVIE,A snobbish phonetics professor agrees to a wager that he can take a flower girl and make her presentable in high society.,1964,G,170,['drama'  'music'  'romance'  'family'],['US'], ,tt0058385,7.8,94121.0,15.949,7.6\r\n",
      "tm98978,The Blue Lagoon,MOVIE,Two small children and a ship's cook survive a shipwreck and find safety on an idyllic tropical island. Soon  however  the cook dies and the young boy and girl are left on their own. Days become years and Emmeline and Richard make a home for themselves surrounded by exotic creatures and nature's beauty. But will they ever see civilization again?,1980,R,104,['romance'  'drama'],['US'], ,tt0080453,5.8,69053.0,44.038,6.2\r\n"
     ]
    }
   ],
   "source": [
    "!head file2.csv"
   ]
  },
  {
   "cell_type": "markdown",
   "id": "9689f0fa",
   "metadata": {},
   "source": [
    "## Proyecto GitHub"
   ]
  },
  {
   "cell_type": "markdown",
   "id": "a949b9f1",
   "metadata": {},
   "source": [
    "Los archivos del proyecto se encuentran publicados en https://github.com/RunCite/FI/tree/main/Practica1"
   ]
  },
  {
   "cell_type": "code",
   "execution_count": null,
   "id": "22b04370",
   "metadata": {},
   "outputs": [],
   "source": []
  }
 ],
 "metadata": {
  "kernelspec": {
   "display_name": "Python 3 (ipykernel)",
   "language": "python",
   "name": "python3"
  },
  "language_info": {
   "codemirror_mode": {
    "name": "ipython",
    "version": 3
   },
   "file_extension": ".py",
   "mimetype": "text/x-python",
   "name": "python",
   "nbconvert_exporter": "python",
   "pygments_lexer": "ipython3",
   "version": "3.9.13"
  }
 },
 "nbformat": 4,
 "nbformat_minor": 5
}
